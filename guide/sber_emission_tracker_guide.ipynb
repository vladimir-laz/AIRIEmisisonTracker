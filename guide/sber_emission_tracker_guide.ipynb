{
 "cells": [
  {
   "cell_type": "markdown",
   "id": "530ef728",
   "metadata": {},
   "source": [
    "# Гайд по CberEmissionTrack\n",
    "Для начала, надо установить трекер(установка с помощью conda появится позже):"
   ]
  },
  {
   "cell_type": "code",
   "execution_count": 1,
   "id": "80102a8e",
   "metadata": {},
   "outputs": [
    {
     "name": "stdout",
     "output_type": "stream",
     "text": [
      "Found existing installation: SberEmissionTrack 0.2.0\n",
      "Uninstalling SberEmissionTrack-0.2.0:\n",
      "  Successfully uninstalled SberEmissionTrack-0.2.0\n",
      "Collecting git+git://github.com/vladimir-laz/AIRIEmisisonTracker.git\n",
      "  Cloning git://github.com/vladimir-laz/AIRIEmisisonTracker.git to /tmp/pip-req-build-m1q71neq\n",
      "  Running command git clone -q git://github.com/vladimir-laz/AIRIEmisisonTracker.git /tmp/pip-req-build-m1q71neq\n",
      "  Resolved git://github.com/vladimir-laz/AIRIEmisisonTracker.git to commit 028e9eb83f5cf5fdd73813d73045ba6254f637c4\n",
      "Requirement already satisfied: APScheduler in /home/user/conda/lib/python3.7/site-packages (from SberEmissionTrack==0.2.0) (3.7.0)\n",
      "Requirement already satisfied: pynvml>=5.6.2 in /home/user/conda/lib/python3.7/site-packages (from SberEmissionTrack==0.2.0) (11.0.0)\n",
      "Requirement already satisfied: psutil in /home/user/conda/lib/python3.7/site-packages (from SberEmissionTrack==0.2.0) (5.8.0)\n",
      "Requirement already satisfied: py-cpuinfo in /home/user/conda/lib/python3.7/site-packages (from SberEmissionTrack==0.2.0) (8.0.0)\n",
      "Requirement already satisfied: tzlocal~=2.0 in /home/user/conda/lib/python3.7/site-packages (from APScheduler->SberEmissionTrack==0.2.0) (2.1)\n",
      "Requirement already satisfied: pytz in /home/user/conda/lib/python3.7/site-packages (from APScheduler->SberEmissionTrack==0.2.0) (2021.1)\n",
      "Requirement already satisfied: setuptools>=0.7 in /home/user/conda/lib/python3.7/site-packages (from APScheduler->SberEmissionTrack==0.2.0) (58.0.4)\n",
      "Requirement already satisfied: six>=1.4.0 in /home/user/conda/lib/python3.7/site-packages (from APScheduler->SberEmissionTrack==0.2.0) (1.16.0)\n",
      "Building wheels for collected packages: SberEmissionTrack\n",
      "  Building wheel for SberEmissionTrack (setup.py) ... \u001b[?25ldone\n",
      "\u001b[?25h  Created wheel for SberEmissionTrack: filename=SberEmissionTrack-0.2.0-py3-none-any.whl size=5864 sha256=525bcafa72a7a7914773bfbe8b169c87828820a6ee34d2b9183601678fc61e38\n",
      "  Stored in directory: /tmp/pip-ephem-wheel-cache-ro86r3c8/wheels/67/e7/41/7ae3b1d2339881a7b0688acdc1bbcca48d205b78766f2ad749\n",
      "Successfully built SberEmissionTrack\n",
      "Installing collected packages: SberEmissionTrack\n",
      "Successfully installed SberEmissionTrack-0.2.0\n"
     ]
    }
   ],
   "source": [
    "# во избежании путанницы на случай, если пакет устанавливался раньше, лучше удалить его и установить заново\n",
    "!pip uninstall SberEmissionTrack -y\n",
    "!pip install git+git://github.com/vladimir-laz/AIRIEmisisonTracker.git"
   ]
  },
  {
   "cell_type": "markdown",
   "id": "844a1bb9",
   "metadata": {},
   "source": [
    "Делаем необходимые импорты"
   ]
  },
  {
   "cell_type": "code",
   "execution_count": 2,
   "id": "eb8550c1",
   "metadata": {},
   "outputs": [],
   "source": [
    "import SberEmissionTrack"
   ]
  },
  {
   "cell_type": "markdown",
   "id": "cf1f0f99",
   "metadata": {},
   "source": [
    "Можно посмотреть, какие устройства доступны:"
   ]
  },
  {
   "cell_type": "code",
   "execution_count": 3,
   "id": "4e08777c",
   "metadata": {},
   "outputs": [
    {
     "name": "stdout",
     "output_type": "stream",
     "text": [
      "Seeable cpu devices:\n",
      "        Intel(R) Xeon(R) Platinum 8168 CPU @ 2.70GHz: 96 devices\n",
      "Seeable gpu devices:\n",
      "        Tesla V100-SXM3-32GB: 2 devices\n"
     ]
    }
   ],
   "source": [
    "SberEmissionTrack.available_devices()"
   ]
  },
  {
   "cell_type": "markdown",
   "id": "bfee9967",
   "metadata": {},
   "source": [
    "Соответственно, если нет доступных gpu, это будет обозначенно. Однако если не будет свободных cpu, то возникнет ошибка, ибо cpu всегда должен быть виден."
   ]
  },
  {
   "cell_type": "markdown",
   "id": "7dfa42ff",
   "metadata": {},
   "source": [
    "С автоматическим определением gpu проблем нет, но вот название cpu выводится не такое, как обычно указывается в официальных базах. В связи с этим полностью автоматические определение модели cpu требует либо составления собственной базы данных, либо тяжелой работы с регулярными выражениями, которая не факт что закончится успехом.\n",
    "В связи с этим, при создании трекера и вызове метода .start() пользователю будет выведена модель cpu и будет предложено ввести его TDP самостоятельно. Попробуйте запустить и проверить(для \"Intel(R) Xeon(R) Platinum 8168 CPU @ 2.70GHz.\" TDP = 205Ватт):"
   ]
  },
  {
   "cell_type": "code",
   "execution_count": 4,
   "id": "9ddf21ed",
   "metadata": {},
   "outputs": [
    {
     "name": "stdout",
     "output_type": "stream",
     "text": [
      "Name of your cpu: Intel(R) Xeon(R) Platinum 8168 CPU @ 2.70GHz.\n",
      "Please, enter it's TDP(watt): 205\n"
     ]
    }
   ],
   "source": [
    "tracker = SberEmissionTrack.Tracker(project_name=\"TEST\",\n",
    "                                    experiment_description=\"testing AIRI tracker\",\n",
    "                                    save_file_name=\"emission.csv\",\n",
    "                                    measure_period=1)\n",
    "tracker.start()\n",
    "# здесь мог быть ваш код\n",
    "tracker.stop()"
   ]
  },
  {
   "cell_type": "markdown",
   "id": "37427255",
   "metadata": {},
   "source": [
    "Конечно, постоянно вводить значение TDP - неудобно, поэтому если оно известно, то можно ввести его заранее:"
   ]
  },
  {
   "cell_type": "code",
   "execution_count": 6,
   "id": "c6e3bbf6",
   "metadata": {},
   "outputs": [],
   "source": [
    "tracker = SberEmissionTrack.Tracker(project_name=\"TEST\",\n",
    "                                    experiment_description=\"testing AIRI tracker\",\n",
    "                                    save_file_name=\"emission.csv\",\n",
    "                                    measure_period=1, \n",
    "                                    cpu_tdp=205)\n",
    "tracker.start()\n",
    "# здесь мог быть ваш код\n",
    "tracker.stop()"
   ]
  },
  {
   "cell_type": "markdown",
   "id": "1666198e",
   "metadata": {},
   "source": [
    "При запуске метода .start() идет подсчет базового(фонового) энергопотребления. Для этого желательно брать не текущие значения, а усредненые, это занимает около 10 секунд. \n",
    "\n",
    "Также если расчетов несколько, то рекомендуется подождать между ними около 20 секунд. За это время энергопотребление успевает упасть до фонового\n",
    "\n",
    "Также лучше использовать не очень большой measure_period"
   ]
  },
  {
   "cell_type": "markdown",
   "id": "a2836879",
   "metadata": {},
   "source": [
    "Если вдруг что-то непонятно с работой трекера, то всегда можно обратиться к функции help(). Там есть описание класса, описание функций и пример использования"
   ]
  },
  {
   "cell_type": "code",
   "execution_count": 7,
   "id": "bc744a24",
   "metadata": {},
   "outputs": [
    {
     "name": "stdout",
     "output_type": "stream",
     "text": [
      "Help on class Tracker in module SberEmissionTrack.emission_track:\n",
      "\n",
      "class Tracker(builtins.object)\n",
      " |  Tracker(project_name, experiment_description, save_file_name='emission.csv', measure_period=2, emission_level=511.7942, cpu_tdp=None)\n",
      " |  \n",
      " |  In order to correctly calculate gpu or cpu ppower consumption you should create\n",
      " |  Tracker before any gpu and cpu uses as tracker considers background gpu and cpu power\n",
      " |  \n",
      " |  For every new gpu calculation it should be created new tracker\n",
      " |  \n",
      " |  ----------------------------------------------------------------------\n",
      " |  Use example:\n",
      " |  \n",
      " |  import SberEmissionTrack.Tracker\n",
      " |  tracker = Tracker(project_name=your_project_name,\n",
      " |                    experiment_description=your_experiment_description,\n",
      " |                    save_file_name=\"you_file_name\",\n",
      " |                    measure_period=2,   #measurement will be done every 2 seconds\n",
      " |                    )\n",
      " |  tracker.start()\n",
      " |  *your gpu calculations*\n",
      " |  tracker.stop()\n",
      " |  \n",
      " |  ----------------------------------------------------------------------\n",
      " |  \n",
      " |  Methods defined here:\n",
      " |  \n",
      " |  __init__(self, project_name, experiment_description, save_file_name='emission.csv', measure_period=2, emission_level=511.7942, cpu_tdp=None)\n",
      " |      Initialize self.  See help(type(self)) for accurate signature.\n",
      " |  \n",
      " |  consumption(self)\n",
      " |  \n",
      " |  emission_level(self)\n",
      " |  \n",
      " |  measure_period(self)\n",
      " |  \n",
      " |  start(self)\n",
      " |  \n",
      " |  stop(self)\n",
      " |  \n",
      " |  ----------------------------------------------------------------------\n",
      " |  Data descriptors defined here:\n",
      " |  \n",
      " |  __dict__\n",
      " |      dictionary for instance variables (if defined)\n",
      " |  \n",
      " |  __weakref__\n",
      " |      list of weak references to the object (if defined)\n",
      "\n"
     ]
    }
   ],
   "source": [
    "help(SberEmissionTrack.Tracker)"
   ]
  },
  {
   "cell_type": "code",
   "execution_count": null,
   "id": "876a8a06",
   "metadata": {},
   "outputs": [],
   "source": []
  }
 ],
 "metadata": {
  "kernelspec": {
   "display_name": "Python 3 (ipykernel)",
   "language": "python",
   "name": "python3"
  },
  "language_info": {
   "codemirror_mode": {
    "name": "ipython",
    "version": 3
   },
   "file_extension": ".py",
   "mimetype": "text/x-python",
   "name": "python",
   "nbconvert_exporter": "python",
   "pygments_lexer": "ipython3",
   "version": "3.7.10"
  }
 },
 "nbformat": 4,
 "nbformat_minor": 5
}
