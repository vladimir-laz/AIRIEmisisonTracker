{
  "nbformat": 4,
  "nbformat_minor": 5,
  "metadata": {
    "kernelspec": {
      "display_name": "Python 3 (ipykernel)",
      "language": "python",
      "name": "python3"
    },
    "language_info": {
      "codemirror_mode": {
        "name": "ipython",
        "version": 3
      },
      "file_extension": ".py",
      "mimetype": "text/x-python",
      "name": "python",
      "nbconvert_exporter": "python",
      "pygments_lexer": "ipython3",
      "version": "3.7.10"
    },
    "colab": {
      "name": "sber_emission_tracker_guide.ipynb",
      "provenance": []
    }
  },
  "cells": [
    {
      "cell_type": "markdown",
      "metadata": {
        "id": "0f2b9263"
      },
      "source": [
        "# CberEmissionTrack guide\n",
        "First of all, you need to install the package"
      ],
      "id": "0f2b9263"
    },
    {
      "cell_type": "markdown",
      "metadata": {
        "id": "aksdzaAfkQA9"
      },
      "source": [
        "As this project is intensively updating, in order to utilize SberEmisisonTrack correctly it is recommended firstly to delete the old version and then to start installation of the new one\n"
      ],
      "id": "aksdzaAfkQA9"
    },
    {
      "cell_type": "code",
      "metadata": {
        "colab": {
          "base_uri": "https://localhost:8080/"
        },
        "id": "6c9754b0",
        "outputId": "6a1eb2c2-de5a-43f3-f6d5-d2b07ebc9223"
      },
      "source": [
        "!pip uninstall SberEmissionTrack -y\n",
        "!pip install git+git://github.com/vladimir-laz/AIRIEmisisonTracker.git"
      ],
      "id": "6c9754b0",
      "execution_count": 1,
      "outputs": [
        {
          "output_type": "stream",
          "name": "stdout",
          "text": [
            "Found existing installation: SberEmissionTrack 1.0.0\n",
            "Uninstalling SberEmissionTrack-1.0.0:\n",
            "  Successfully uninstalled SberEmissionTrack-1.0.0\n",
            "Collecting git+git://github.com/vladimir-laz/AIRIEmisisonTracker.git\n",
            "  Cloning git://github.com/vladimir-laz/AIRIEmisisonTracker.git to /tmp/pip-req-build-or2ihdu5\n",
            "  Running command git clone -q git://github.com/vladimir-laz/AIRIEmisisonTracker.git /tmp/pip-req-build-or2ihdu5\n",
            "Requirement already satisfied: APScheduler in /usr/local/lib/python3.7/dist-packages (from SberEmissionTrack==1.0.0) (3.8.1)\n",
            "Requirement already satisfied: pynvml>=5.6.2 in /usr/local/lib/python3.7/dist-packages (from SberEmissionTrack==1.0.0) (11.0.0)\n",
            "Requirement already satisfied: psutil in /usr/local/lib/python3.7/dist-packages (from SberEmissionTrack==1.0.0) (5.4.8)\n",
            "Requirement already satisfied: py-cpuinfo in /usr/local/lib/python3.7/dist-packages (from SberEmissionTrack==1.0.0) (8.0.0)\n",
            "Requirement already satisfied: setuptools>=0.7 in /usr/local/lib/python3.7/dist-packages (from APScheduler->SberEmissionTrack==1.0.0) (57.4.0)\n",
            "Requirement already satisfied: tzlocal!=3.*,>=2.0 in /usr/local/lib/python3.7/dist-packages (from APScheduler->SberEmissionTrack==1.0.0) (4.1)\n",
            "Requirement already satisfied: pytz in /usr/local/lib/python3.7/dist-packages (from APScheduler->SberEmissionTrack==1.0.0) (2018.9)\n",
            "Requirement already satisfied: six>=1.4.0 in /usr/local/lib/python3.7/dist-packages (from APScheduler->SberEmissionTrack==1.0.0) (1.15.0)\n",
            "Requirement already satisfied: backports.zoneinfo in /usr/local/lib/python3.7/dist-packages (from tzlocal!=3.*,>=2.0->APScheduler->SberEmissionTrack==1.0.0) (0.2.1)\n",
            "Requirement already satisfied: pytz-deprecation-shim in /usr/local/lib/python3.7/dist-packages (from tzlocal!=3.*,>=2.0->APScheduler->SberEmissionTrack==1.0.0) (0.1.0.post0)\n",
            "Requirement already satisfied: tzdata in /usr/local/lib/python3.7/dist-packages (from pytz-deprecation-shim->tzlocal!=3.*,>=2.0->APScheduler->SberEmissionTrack==1.0.0) (2021.5)\n",
            "Building wheels for collected packages: SberEmissionTrack\n",
            "  Building wheel for SberEmissionTrack (setup.py) ... \u001b[?25l\u001b[?25hdone\n",
            "  Created wheel for SberEmissionTrack: filename=SberEmissionTrack-1.0.0-py3-none-any.whl size=26078 sha256=4ea67ec91d89d13ce41741a7f6d77b6c70bcdc0544af6aebdc313789ea440633\n",
            "  Stored in directory: /tmp/pip-ephem-wheel-cache-q1wly6qy/wheels/67/e7/41/7ae3b1d2339881a7b0688acdc1bbcca48d205b78766f2ad749\n",
            "Successfully built SberEmissionTrack\n",
            "Installing collected packages: SberEmissionTrack\n",
            "Successfully installed SberEmissionTrack-1.0.0\n"
          ]
        }
      ]
    },
    {
      "cell_type": "markdown",
      "metadata": {
        "id": "nyu03yg9kzts"
      },
      "source": [
        "If such an error appears: \n",
        "\n",
        "```python\n",
        "ContextualVersionConflict: (tzlocal 1.5.1 (/usr/local/lib/python3.7/dist-packages), Requirement.parse('tzlocal!=3.*,>=2.0'), {'APScheduler'})\n",
        "```\n",
        "\n",
        "Then just restart the kernel"
      ],
      "id": "nyu03yg9kzts"
    },
    {
      "cell_type": "code",
      "metadata": {
        "id": "2346099d"
      },
      "source": [
        "import SberEmissionTrack\n",
        "import pandas as pd"
      ],
      "id": "2346099d",
      "execution_count": 2,
      "outputs": []
    },
    {
      "cell_type": "markdown",
      "metadata": {
        "id": "ed764bea"
      },
      "source": [
        "You can observe all available cpu & gpu devices by running command below:\n",
        "\n",
        "If there are no any available gpus then gpu power consumption will be set to zero\n",
        "\n",
        "If there are no any available cpus then cpu power consumption will be set to base cpu consumption which is equal to 100Watt"
      ],
      "id": "ed764bea"
    },
    {
      "cell_type": "code",
      "metadata": {
        "colab": {
          "base_uri": "https://localhost:8080/"
        },
        "id": "53d9f6d6",
        "outputId": "4ecd0a6d-77c7-409b-97ad-2b69cad4bb7c"
      },
      "source": [
        "SberEmissionTrack.available_devices()"
      ],
      "id": "53d9f6d6",
      "execution_count": 3,
      "outputs": [
        {
          "output_type": "stream",
          "name": "stdout",
          "text": [
            "Seeable cpu device(s):\n",
            "        Intel(R) Xeon(R) CPU @ 2.20GHz: 2 device(s)\n",
            "There is no any available gpu device(s)\n"
          ]
        }
      ]
    },
    {
      "cell_type": "code",
      "metadata": {
        "colab": {
          "base_uri": "https://localhost:8080/"
        },
        "id": "10bfc10d",
        "outputId": "37666115-d1d3-4076-a6f9-e604fd27461e"
      },
      "source": [
        "tracker = SberEmissionTrack.Tracker(project_name=\"Tracker guide\",\n",
        "                                    experiment_description=\"testing SberEmissionTrack\",\n",
        "                                    save_file_name=\"emission.csv\",\n",
        "                                    measure_period=3, # period to measure current power consumption\n",
        "                                    emission_level=511.7942) #CO2 emission per every MWh in Russia\n",
        "tracker.start()\n",
        "\n",
        "# you code\n",
        "\n",
        "tracker.stop()"
      ],
      "id": "10bfc10d",
      "execution_count": 4,
      "outputs": [
        {
          "output_type": "stream",
          "name": "stderr",
          "text": [
            "/usr/local/lib/python3.7/dist-packages/apscheduler/util.py:95: PytzUsageWarning: The zone attribute is specific to pytz's interface; please migrate to a new time zone provider. For more details on how to do so, see https://pytz-deprecation-shim.readthedocs.io/en/latest/migration.html\n",
            "  if obj.zone == 'local':\n",
            "/usr/local/lib/python3.7/dist-packages/apscheduler/triggers/interval.py:66: PytzUsageWarning: The normalize method is no longer necessary, as this time zone supports the fold attribute (PEP 495). For more details on migrating to a PEP 495-compliant implementation, see https://pytz-deprecation-shim.readthedocs.io/en/latest/migration.html\n",
            "  return self.timezone.normalize(next_fire_time)\n"
          ]
        }
      ]
    },
    {
      "cell_type": "markdown",
      "metadata": {
        "id": "bZEoAZE4tLFO"
      },
      "source": [
        "The CO2 emission results are available at \"emission.csv\" file"
      ],
      "id": "bZEoAZE4tLFO"
    },
    {
      "cell_type": "code",
      "metadata": {
        "colab": {
          "base_uri": "https://localhost:8080/",
          "height": 80
        },
        "id": "Xcdf77ZhtZ8v",
        "outputId": "9133d39c-2654-41aa-d8e7-bbf869707bb4"
      },
      "source": [
        "pd.read_csv('emission.csv')"
      ],
      "id": "Xcdf77ZhtZ8v",
      "execution_count": 5,
      "outputs": [
        {
          "output_type": "execute_result",
          "data": {
            "text/html": [
              "<div>\n",
              "<style scoped>\n",
              "    .dataframe tbody tr th:only-of-type {\n",
              "        vertical-align: middle;\n",
              "    }\n",
              "\n",
              "    .dataframe tbody tr th {\n",
              "        vertical-align: top;\n",
              "    }\n",
              "\n",
              "    .dataframe thead th {\n",
              "        text-align: right;\n",
              "    }\n",
              "</style>\n",
              "<table border=\"1\" class=\"dataframe\">\n",
              "  <thead>\n",
              "    <tr style=\"text-align: right;\">\n",
              "      <th></th>\n",
              "      <th>project_name</th>\n",
              "      <th>experiment_description</th>\n",
              "      <th>time(s)</th>\n",
              "      <th>power_consumption(kWTh)</th>\n",
              "      <th>CO2_emissions(kg)</th>\n",
              "    </tr>\n",
              "  </thead>\n",
              "  <tbody>\n",
              "    <tr>\n",
              "      <th>0</th>\n",
              "      <td>Tracker guide</td>\n",
              "      <td>testing SberEmissionTrack</td>\n",
              "      <td>0.580256</td>\n",
              "      <td>0.000002</td>\n",
              "      <td>8.185475e-07</td>\n",
              "    </tr>\n",
              "  </tbody>\n",
              "</table>\n",
              "</div>"
            ],
            "text/plain": [
              "    project_name  ... CO2_emissions(kg)\n",
              "0  Tracker guide  ...      8.185475e-07\n",
              "\n",
              "[1 rows x 5 columns]"
            ]
          },
          "metadata": {},
          "execution_count": 5
        }
      ]
    },
    {
      "cell_type": "markdown",
      "metadata": {
        "id": "338a338c"
      },
      "source": [
        "Also, all the fuctions and classes have detailed description:"
      ],
      "id": "338a338c"
    },
    {
      "cell_type": "code",
      "metadata": {
        "colab": {
          "base_uri": "https://localhost:8080/"
        },
        "id": "5dec230c",
        "outputId": "fad4c674-f462-4030-b821-2178f81d1f94"
      },
      "source": [
        "help(SberEmissionTrack.Tracker)"
      ],
      "id": "5dec230c",
      "execution_count": 6,
      "outputs": [
        {
          "output_type": "stream",
          "name": "stdout",
          "text": [
            "Help on class Tracker in module SberEmissionTrack.emission_track:\n",
            "\n",
            "class Tracker(builtins.object)\n",
            " |  Tracker(project_name='Deafult project name', experiment_description='no experiment description', save_file_name='emission.csv', measure_period=2, emission_level=511.7942)\n",
            " |  \n",
            " |  In order to calculate gpu & cpu power consumption correctly you should create the 'Tracker' before any gpu or cpu usage\n",
            " |  For every new calculation create a new “Tracker.”\n",
            " |  \n",
            " |  ----------------------------------------------------------------------\n",
            " |  Use example:\n",
            " |  \n",
            " |  import SberEmissionTrack.Tracker\n",
            " |  tracker = SberEmissionTrack.Tracker()\n",
            " |  \n",
            " |  tracker.start()\n",
            " |  \n",
            " |  *your gpu calculations*\n",
            " |  \n",
            " |  tracker.stop()\n",
            " |  ----------------------------------------------------------------------\n",
            " |  \n",
            " |  Methods defined here:\n",
            " |  \n",
            " |  __init__(self, project_name='Deafult project name', experiment_description='no experiment description', save_file_name='emission.csv', measure_period=2, emission_level=511.7942)\n",
            " |      Initialize self.  See help(type(self)) for accurate signature.\n",
            " |  \n",
            " |  consumption(self)\n",
            " |  \n",
            " |  emission_level(self)\n",
            " |  \n",
            " |  measure_period(self)\n",
            " |  \n",
            " |  start(self)\n",
            " |  \n",
            " |  stop(self)\n",
            " |  \n",
            " |  ----------------------------------------------------------------------\n",
            " |  Data descriptors defined here:\n",
            " |  \n",
            " |  __dict__\n",
            " |      dictionary for instance variables (if defined)\n",
            " |  \n",
            " |  __weakref__\n",
            " |      list of weak references to the object (if defined)\n",
            "\n"
          ]
        }
      ]
    }
  ]
}