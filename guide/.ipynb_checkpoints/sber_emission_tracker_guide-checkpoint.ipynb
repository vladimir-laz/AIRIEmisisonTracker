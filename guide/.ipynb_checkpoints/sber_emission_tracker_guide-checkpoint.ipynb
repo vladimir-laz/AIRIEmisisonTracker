{
 "cells": [
  {
   "cell_type": "markdown",
   "id": "0f2b9263",
   "metadata": {
    "id": "0f2b9263"
   },
   "source": [
    "# CberEmissionTrack guide\n",
    "First of all, you need to install the package"
   ]
  },
  {
   "cell_type": "markdown",
   "id": "aksdzaAfkQA9",
   "metadata": {
    "id": "aksdzaAfkQA9"
   },
   "source": [
    "As this project is intensively updating, in order to utilize SberEmisisonTrack correctly it is recommended firstly to delete the old version and then to start installation of the new one\n"
   ]
  },
  {
   "cell_type": "code",
   "execution_count": 1,
   "id": "6c9754b0",
   "metadata": {
    "colab": {
     "base_uri": "https://localhost:8080/"
    },
    "id": "6c9754b0",
    "outputId": "c28f9985-a451-4a44-c8c4-724995d270f8"
   },
   "outputs": [
    {
     "name": "stdout",
     "output_type": "stream",
     "text": [
      "\u001b[33mWARNING: Skipping SberEmissionTrack as it is not installed.\u001b[0m\n",
      "Collecting git+git://github.com/vladimir-laz/AIRIEmisisonTracker.git\n",
      "  Cloning git://github.com/vladimir-laz/AIRIEmisisonTracker.git to /private/var/folders/w4/v_0yp81j04sdxlpxqs6fx62w0000gq/T/pip-req-build-tw2xncfw\n",
      "  Running command git clone -q git://github.com/vladimir-laz/AIRIEmisisonTracker.git /private/var/folders/w4/v_0yp81j04sdxlpxqs6fx62w0000gq/T/pip-req-build-tw2xncfw\n",
      "Requirement already satisfied: APScheduler in /Users/Lazarev/opt/anaconda3/lib/python3.8/site-packages (from SberEmissionTrack==1.0.0) (3.8.0)\n",
      "Requirement already satisfied: pynvml>=5.6.2 in /Users/Lazarev/opt/anaconda3/lib/python3.8/site-packages (from SberEmissionTrack==1.0.0) (11.0.0)\n",
      "Requirement already satisfied: psutil in /Users/Lazarev/opt/anaconda3/lib/python3.8/site-packages (from SberEmissionTrack==1.0.0) (5.8.0)\n",
      "Collecting py-cpuinfo\n",
      "  Using cached py_cpuinfo-8.0.0-py3-none-any.whl\n",
      "Requirement already satisfied: pytz in /Users/Lazarev/opt/anaconda3/lib/python3.8/site-packages (from APScheduler->SberEmissionTrack==1.0.0) (2021.1)\n",
      "Requirement already satisfied: tzlocal~=2.0 in /Users/Lazarev/opt/anaconda3/lib/python3.8/site-packages (from APScheduler->SberEmissionTrack==1.0.0) (2.1)\n",
      "Requirement already satisfied: setuptools>=0.7 in /Users/Lazarev/opt/anaconda3/lib/python3.8/site-packages (from APScheduler->SberEmissionTrack==1.0.0) (52.0.0.post20210125)\n",
      "Requirement already satisfied: six>=1.4.0 in /Users/Lazarev/opt/anaconda3/lib/python3.8/site-packages (from APScheduler->SberEmissionTrack==1.0.0) (1.15.0)\n",
      "Building wheels for collected packages: SberEmissionTrack\n",
      "  Building wheel for SberEmissionTrack (setup.py) ... \u001b[?25ldone\n",
      "\u001b[?25h  Created wheel for SberEmissionTrack: filename=SberEmissionTrack-1.0.0-py3-none-any.whl size=24391 sha256=6340428972ff69665a12cca3eca96afa34fd88e91faa13b9009b30cab88f5229\n",
      "  Stored in directory: /private/var/folders/w4/v_0yp81j04sdxlpxqs6fx62w0000gq/T/pip-ephem-wheel-cache-j2xfvk3o/wheels/e9/fe/4d/7dd3152a6df8977e9574399d220b3b02607f6697d0ded2052b\n",
      "Successfully built SberEmissionTrack\n",
      "Installing collected packages: py-cpuinfo, SberEmissionTrack\n",
      "Successfully installed SberEmissionTrack-1.0.0 py-cpuinfo-8.0.0\n"
     ]
    }
   ],
   "source": [
    "!pip uninstall SberEmissionTrack -y\n",
    "!pip install git+git://github.com/vladimir-laz/AIRIEmisisonTracker.git"
   ]
  },
  {
   "cell_type": "code",
   "execution_count": 2,
   "id": "2346099d",
   "metadata": {
    "id": "2346099d"
   },
   "outputs": [],
   "source": [
    "import SberEmissionTrack\n",
    "import pandas as pd"
   ]
  },
  {
   "cell_type": "markdown",
   "id": "nyu03yg9kzts",
   "metadata": {
    "id": "nyu03yg9kzts"
   },
   "source": [
    "If such an error appears: \n",
    "\n",
    "```python\n",
    "ContextualVersionConflict: (tzlocal 1.5.1 (/usr/local/lib/python3.7/dist-packages), Requirement.parse('tzlocal!=3.*,>=2.0'), {'APScheduler'})\n",
    "```\n",
    "\n",
    "Then just restart the kernel"
   ]
  },
  {
   "cell_type": "markdown",
   "id": "ed764bea",
   "metadata": {
    "id": "ed764bea"
   },
   "source": [
    "You can observe all available cpu & gpu devices by running command below:\n",
    "\n",
    "If there are no any available gpus then gpu power consumption will be set to zero\n",
    "\n",
    "If there are no any available cpus then cpu power consumption will be set to base cpu consumption which is equal to 100Watt"
   ]
  },
  {
   "cell_type": "code",
   "execution_count": 3,
   "id": "53d9f6d6",
   "metadata": {
    "colab": {
     "base_uri": "https://localhost:8080/"
    },
    "id": "53d9f6d6",
    "outputId": "30abb130-5f73-4324-ca3b-5b655d326101"
   },
   "outputs": [
    {
     "name": "stdout",
     "output_type": "stream",
     "text": [
      "Seeable cpu device(s):\n",
      "        Apple M1: 8 device(s)\n",
      "There is no any available gpu device(s)\n"
     ]
    }
   ],
   "source": [
    "SberEmissionTrack.available_devices()"
   ]
  },
  {
   "cell_type": "code",
   "execution_count": 4,
   "id": "10bfc10d",
   "metadata": {
    "colab": {
     "base_uri": "https://localhost:8080/"
    },
    "id": "10bfc10d",
    "outputId": "6f3cef57-4519-4bc7-ce1f-7227dd2e77a3"
   },
   "outputs": [
    {
     "name": "stderr",
     "output_type": "stream",
     "text": [
      "/usr/local/lib/python3.7/dist-packages/apscheduler/util.py:95: PytzUsageWarning: The zone attribute is specific to pytz's interface; please migrate to a new time zone provider. For more details on how to do so, see https://pytz-deprecation-shim.readthedocs.io/en/latest/migration.html\n",
      "  if obj.zone == 'local':\n",
      "/usr/local/lib/python3.7/dist-packages/apscheduler/triggers/interval.py:66: PytzUsageWarning: The normalize method is no longer necessary, as this time zone supports the fold attribute (PEP 495). For more details on migrating to a PEP 495-compliant implementation, see https://pytz-deprecation-shim.readthedocs.io/en/latest/migration.html\n",
      "  return self.timezone.normalize(next_fire_time)\n"
     ]
    }
   ],
   "source": [
    "tracker = SberEmissionTrack.Tracker(project_name=\"Tracker guide\",\n",
    "                                    experiment_description=\"testing SberEmissionTrack\",\n",
    "                                    save_file_name=\"emission.csv\",\n",
    "                                    measure_period=3, # period to measure current power consumption\n",
    "                                    emission_level=511.7942) #CO2 emission per every MWh in Russia\n",
    "tracker.start()\n",
    "\n",
    "# you code\n",
    "\n",
    "tracker.stop()"
   ]
  },
  {
   "cell_type": "markdown",
   "id": "bZEoAZE4tLFO",
   "metadata": {
    "id": "bZEoAZE4tLFO"
   },
   "source": [
    "The CO2 emission results are available at \"emission.csv\" file"
   ]
  },
  {
   "cell_type": "code",
   "execution_count": 5,
   "id": "Xcdf77ZhtZ8v",
   "metadata": {
    "colab": {
     "base_uri": "https://localhost:8080/",
     "height": 80
    },
    "id": "Xcdf77ZhtZ8v",
    "outputId": "a8ff7d47-320a-4105-f9af-551f864d27d9"
   },
   "outputs": [
    {
     "data": {
      "text/html": [
       "<div>\n",
       "<style scoped>\n",
       "    .dataframe tbody tr th:only-of-type {\n",
       "        vertical-align: middle;\n",
       "    }\n",
       "\n",
       "    .dataframe tbody tr th {\n",
       "        vertical-align: top;\n",
       "    }\n",
       "\n",
       "    .dataframe thead th {\n",
       "        text-align: right;\n",
       "    }\n",
       "</style>\n",
       "<table border=\"1\" class=\"dataframe\">\n",
       "  <thead>\n",
       "    <tr style=\"text-align: right;\">\n",
       "      <th></th>\n",
       "      <th>project_name</th>\n",
       "      <th>experiment_description</th>\n",
       "      <th>time(s)</th>\n",
       "      <th>power_consumption(kWTh)</th>\n",
       "      <th>CO2_emissions(kg)</th>\n",
       "    </tr>\n",
       "  </thead>\n",
       "  <tbody>\n",
       "    <tr>\n",
       "      <th>0</th>\n",
       "      <td>Tracker guide</td>\n",
       "      <td>testing SberEmissionTrack</td>\n",
       "      <td>0.573439</td>\n",
       "      <td>0.000006</td>\n",
       "      <td>0.000003</td>\n",
       "    </tr>\n",
       "  </tbody>\n",
       "</table>\n",
       "</div>"
      ],
      "text/plain": [
       "    project_name  ... CO2_emissions(kg)\n",
       "0  Tracker guide  ...          0.000003\n",
       "\n",
       "[1 rows x 5 columns]"
      ]
     },
     "execution_count": 5,
     "metadata": {},
     "output_type": "execute_result"
    }
   ],
   "source": [
    "pd.read_csv('emission.csv')"
   ]
  },
  {
   "cell_type": "markdown",
   "id": "338a338c",
   "metadata": {
    "id": "338a338c"
   },
   "source": [
    "Also, all the fuctions and classes have detailed description:"
   ]
  },
  {
   "cell_type": "code",
   "execution_count": 6,
   "id": "5dec230c",
   "metadata": {
    "colab": {
     "base_uri": "https://localhost:8080/"
    },
    "id": "5dec230c",
    "outputId": "f3692f0e-e6a7-4532-abb0-885b23ac5975"
   },
   "outputs": [
    {
     "name": "stdout",
     "output_type": "stream",
     "text": [
      "Help on class Tracker in module SberEmissionTrack.emission_track:\n",
      "\n",
      "class Tracker(builtins.object)\n",
      " |  Tracker(project_name='Deafult project name', experiment_description='no experiment description', save_file_name='emission.csv', measure_period=2, emission_level=511.7942)\n",
      " |  \n",
      " |  In order to calculate gpu & cpu power consumption correctly you should create the 'Tracker' before any gpu or cpu usage\n",
      " |  For every new calculation create a new “Tracker.”\n",
      " |  \n",
      " |  ----------------------------------------------------------------------\n",
      " |  Use example:\n",
      " |  \n",
      " |  import SberEmissionTrack.Tracker\n",
      " |  tracker = SberEmissionTrack.Tracker()\n",
      " |  \n",
      " |  tracker.start()\n",
      " |  \n",
      " |  *your gpu calculations*\n",
      " |  \n",
      " |  tracker.stop()\n",
      " |  ----------------------------------------------------------------------\n",
      " |  \n",
      " |  Methods defined here:\n",
      " |  \n",
      " |  __init__(self, project_name='Deafult project name', experiment_description='no experiment description', save_file_name='emission.csv', measure_period=2, emission_level=511.7942)\n",
      " |      Initialize self.  See help(type(self)) for accurate signature.\n",
      " |  \n",
      " |  consumption(self)\n",
      " |  \n",
      " |  emission_level(self)\n",
      " |  \n",
      " |  measure_period(self)\n",
      " |  \n",
      " |  start(self)\n",
      " |  \n",
      " |  stop(self)\n",
      " |  \n",
      " |  ----------------------------------------------------------------------\n",
      " |  Data descriptors defined here:\n",
      " |  \n",
      " |  __dict__\n",
      " |      dictionary for instance variables (if defined)\n",
      " |  \n",
      " |  __weakref__\n",
      " |      list of weak references to the object (if defined)\n",
      "\n"
     ]
    }
   ],
   "source": [
    "help(SberEmissionTrack.Tracker)"
   ]
  }
 ],
 "metadata": {
  "accelerator": "GPU",
  "colab": {
   "name": "sber_emission_tracker_guide.ipynb",
   "provenance": []
  },
  "kernelspec": {
   "display_name": "Python 3",
   "language": "python",
   "name": "python3"
  },
  "language_info": {
   "codemirror_mode": {
    "name": "ipython",
    "version": 3
   },
   "file_extension": ".py",
   "mimetype": "text/x-python",
   "name": "python",
   "nbconvert_exporter": "python",
   "pygments_lexer": "ipython3",
   "version": "3.8.8"
  }
 },
 "nbformat": 4,
 "nbformat_minor": 5
}
